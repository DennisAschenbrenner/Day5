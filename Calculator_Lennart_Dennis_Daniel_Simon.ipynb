{
 "cells": [
  {
   "cell_type": "code",
   "execution_count": null,
   "metadata": {},
   "outputs": [],
   "source": [
    "tupellist = [(50000, 0.08), (100000, 0.1)]\n",
    "income = 120000\n",
    "\n",
    "def calculator(taxlist, income):\n",
    "    total = 0\n",
    "    inc = income\n",
    "\n",
    "    if income < taxlist[0][0]:\n",
    "        total += income * taxlist[0][1]\n",
    "        return total\n",
    "    \n",
    "    else:\n",
    "        for i in range(1,len(taxlist)):\n",
    "            #if income <= taxlist[i][0]:\n",
    "                for j in range(i+1):\n",
    "                    if inc > taxlist[j][0]:  \n",
    "                        total += taxlist[j][0] * taxlist[j][1]\n",
    "                        inc -= taxlist[j][0]\n",
    "                    \n",
    "                    else:\n",
    "                        total += inc * taxlist[j][1]\n",
    "                        #print(total)\n",
    "            #else:...\n",
    "        return total\n",
    "                    \n",
    "        \n",
    "        \n",
    "        \n",
    "##        else:\n",
    "#            continue\n",
    "            \n",
    "#            (income - taxlist[j][0]) \n",
    "            \n",
    "#    return total\n",
    "     \n",
    "#compare(tupellist, income)\n",
    "\n",
    "#def calculator(taxlist, income):\n",
    "    \n",
    "    \n",
    "calculator(tupellist, income)"
   ]
  },
  {
   "cell_type": "markdown",
   "metadata": {},
   "source": [
    "### As that the program above doesn't work for bigger list, here is also a fixed program, which was done outside of the 1 hour time we had."
   ]
  },
  {
   "cell_type": "code",
   "execution_count": 3,
   "metadata": {},
   "outputs": [
    {
     "data": {
      "text/plain": [
       "65500.0"
      ]
     },
     "execution_count": 3,
     "metadata": {},
     "output_type": "execute_result"
    }
   ],
   "source": [
    "tupellist = [(50000, 0.08), (100000, 0.1), (150000, 0.15), (200000, 0.5), (240000, 0.6)]\n",
    "income = 250000\n",
    "\n",
    "def calculator(taxlist, income):\n",
    "    total = 0\n",
    "    inc = income\n",
    "    maximum_pos = 0\n",
    "    taxlist.insert(0,(0,0))   #We have to insert a (0,0) so we dont run into problems in the loop later\n",
    "    \n",
    "    for k in range(0, len(taxlist)):\n",
    "        \n",
    "        if income < taxlist[k][0]:\n",
    "            maximum_pos = k + 1\n",
    "            break\n",
    "        \n",
    "        else:\n",
    "            maximum_pos = len(taxlist)\n",
    "              \n",
    "    for i in range(1,maximum_pos):\n",
    "        \n",
    "        if income > taxlist[i][0] and inc > taxlist[i][0] - taxlist[i-1][0]:  \n",
    "            total += (taxlist[i][0] - taxlist[i-1][0]) * taxlist[i][1]\n",
    "            inc -= (taxlist[i][0] - taxlist[i-1][0])\n",
    "\n",
    "        else:\n",
    "            total += inc * taxlist[i][1]\n",
    "\n",
    "    return total\n",
    "                    \n",
    "    \n",
    "calculator(tupellist, income)\n",
    "\n",
    "\n"
   ]
  },
  {
   "cell_type": "code",
   "execution_count": null,
   "metadata": {},
   "outputs": [],
   "source": []
  }
 ],
 "metadata": {
  "kernelspec": {
   "display_name": "Python [conda env:nf] *",
   "language": "python",
   "name": "conda-env-nf-py"
  },
  "language_info": {
   "codemirror_mode": {
    "name": "ipython",
    "version": 3
   },
   "file_extension": ".py",
   "mimetype": "text/x-python",
   "name": "python",
   "nbconvert_exporter": "python",
   "pygments_lexer": "ipython3",
   "version": "3.6.6"
  }
 },
 "nbformat": 4,
 "nbformat_minor": 2
}
