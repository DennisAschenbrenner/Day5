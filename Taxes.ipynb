{
 "cells": [
  {
   "cell_type": "code",
   "execution_count": 146,
   "metadata": {},
   "outputs": [],
   "source": [
    "taxlist = [(50000, 0.1), (100000, 0.2)]\n",
    "\n",
    "def taxes(taxlist, income):\n",
    "    total = 0\n",
    "    inc = income\n",
    "    \n",
    "    if income < taxlist[0][0]:\n",
    "        total += income * taxlist[0][1]\n",
    "        return total\n",
    "    \n",
    "    else: \n",
    "        for i in range(1,len(taxlist)):\n",
    "                for j in range(i+1):\n",
    "                    if inc > taxlist[j][0]:\n",
    "                        total += taxlist[j][0] * taxlist[j][1]\n",
    "                        inc -= taxlist[j][0]\n",
    "                        \n",
    "                    else:\n",
    "                        total += inc * taxlist[j][1]\n",
    "        return total\n"
   ]
  },
  {
   "cell_type": "code",
   "execution_count": 147,
   "metadata": {},
   "outputs": [
    {
     "data": {
      "text/plain": [
       "2000.0"
      ]
     },
     "execution_count": 147,
     "metadata": {},
     "output_type": "execute_result"
    }
   ],
   "source": [
    "taxes(taxlist,income=20000)"
   ]
  },
  {
   "cell_type": "code",
   "execution_count": 128,
   "metadata": {},
   "outputs": [
    {
     "data": {
      "text/plain": [
       "9000.0"
      ]
     },
     "execution_count": 128,
     "metadata": {},
     "output_type": "execute_result"
    }
   ],
   "source": [
    "50000*0.08+50000*0.1"
   ]
  },
  {
   "cell_type": "code",
   "execution_count": 199,
   "metadata": {},
   "outputs": [],
   "source": [
    "taxlist2 = [(50000, 0.1), (70000, 0.15), (110000, 0.2), (160000, 0.25), (220000, 0.3)]\n",
    "\n",
    "def taxes2(taxlist2, income):\n",
    "    taxlist_total = [()]\n",
    "    total=0\n",
    "    maxtax = 0.35\n",
    "    \n",
    "    if income < taxlist[0][0]:\n",
    "        total += income * taxlist[0][1]\n",
    "    return total\n",
    "\n",
    " \n",
    "    taxlist_total[0] = taxlist2[0][0] * taxlist2[0][1]\n",
    "    for i in range(len(taxlist2)-1):\n",
    "        taxlist_total[i] = (taxlist2[i][0] - taxlist2[i-1][0]) * taxlist2[i][1]\n",
    "        if income < taxlist2[i][0] \n",
    "           position = i\n",
    "            total = sum(taxlist_total[1:position]) + (income - taxlist2[position][0]) * taxlist2[position][1]\n",
    "        \n",
    "        elif income > taxlist2[-1][0]\n",
    "        \n",
    "             total = sum(taxlist_total) + (income - taxlist2[-1][0]) * maxtax\n",
    "            \n",
    "    return total"
   ]
  },
  {
   "cell_type": "code",
   "execution_count": 208,
   "metadata": {},
   "outputs": [],
   "source": [
    "for i in range(len(taxlist2)-1):\n",
    "        taxlist_total = (taxlist2[i][0] - taxlist2[i-1][0]) * taxlist2[i][1]"
   ]
  },
  {
   "cell_type": "code",
   "execution_count": 213,
   "metadata": {},
   "outputs": [
    {
     "data": {
      "text/plain": [
       "220000"
      ]
     },
     "execution_count": 213,
     "metadata": {},
     "output_type": "execute_result"
    }
   ],
   "source": [
    "taxlist2[-1][0]"
   ]
  },
  {
   "cell_type": "code",
   "execution_count": null,
   "metadata": {},
   "outputs": [],
   "source": []
  }
 ],
 "metadata": {
  "kernelspec": {
   "display_name": "Python 3",
   "language": "python",
   "name": "python3"
  },
  "language_info": {
   "codemirror_mode": {
    "name": "ipython",
    "version": 3
   },
   "file_extension": ".py",
   "mimetype": "text/x-python",
   "name": "python",
   "nbconvert_exporter": "python",
   "pygments_lexer": "ipython3",
   "version": "3.7.3"
  }
 },
 "nbformat": 4,
 "nbformat_minor": 2
}
